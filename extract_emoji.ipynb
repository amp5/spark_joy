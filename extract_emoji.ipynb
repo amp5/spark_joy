{
 "cells": [
  {
   "cell_type": "code",
   "execution_count": 31,
   "metadata": {},
   "outputs": [],
   "source": [
    "import pandas as pd\n",
    "from pandas.io.json import json_normalize\n",
    "import json\n",
    "import emoji\n",
    "\n",
    "import re\n",
    "    \n",
    "    \n",
    "%matplotlib inline"
   ]
  },
  {
   "cell_type": "code",
   "execution_count": 9,
   "metadata": {},
   "outputs": [],
   "source": [
    "filepath = '/Users/alexandraplassaras/src/spark_joy/comments.json'"
   ]
  },
  {
   "cell_type": "code",
   "execution_count": 10,
   "metadata": {},
   "outputs": [],
   "source": [
    "with open(filepath, 'r') as f:\n",
    "    data = json.load(f)"
   ]
  },
  {
   "cell_type": "code",
   "execution_count": 11,
   "metadata": {},
   "outputs": [],
   "source": [
    "comment_list = []\n",
    "for item in data['items']:\n",
    "    comment_row = item['snippet']['topLevelComment']['snippet']\n",
    "    del comment_row['authorDisplayName']\n",
    "    del comment_row['authorProfileImageUrl']\n",
    "    del comment_row['canRate']\n",
    "    del comment_row['updatedAt']\n",
    "    del comment_row['viewerRating']\n",
    "    del comment_row['textOriginal']\n",
    "    del comment_row['authorChannelUrl']\n",
    "    del comment_row['likeCount']\n",
    "\n",
    "    comment_list.append(comment_row)\n",
    "\n",
    "\n",
    "    \n",
    "#     snippet = data['items'][0]['snippet']['topLevelComment']['snippet']"
   ]
  },
  {
   "cell_type": "code",
   "execution_count": 12,
   "metadata": {},
   "outputs": [],
   "source": [
    "df = pd.DataFrame(comment_list)"
   ]
  },
  {
   "cell_type": "code",
   "execution_count": 53,
   "metadata": {},
   "outputs": [
    {
     "data": {
      "text/html": [
       "<div>\n",
       "<style scoped>\n",
       "    .dataframe tbody tr th:only-of-type {\n",
       "        vertical-align: middle;\n",
       "    }\n",
       "\n",
       "    .dataframe tbody tr th {\n",
       "        vertical-align: top;\n",
       "    }\n",
       "\n",
       "    .dataframe thead th {\n",
       "        text-align: right;\n",
       "    }\n",
       "</style>\n",
       "<table border=\"1\" class=\"dataframe\">\n",
       "  <thead>\n",
       "    <tr style=\"text-align: right;\">\n",
       "      <th></th>\n",
       "      <th>authorChannelId</th>\n",
       "      <th>publishedAt</th>\n",
       "      <th>textDisplay</th>\n",
       "      <th>videoId</th>\n",
       "      <th>emoji</th>\n",
       "    </tr>\n",
       "  </thead>\n",
       "  <tbody>\n",
       "    <tr>\n",
       "      <th>0</th>\n",
       "      <td>{'value': 'UCGWE5YRjoodVGyuIhy0MD1g'}</td>\n",
       "      <td>2019-01-27T02:20:59.000Z</td>\n",
       "      <td>I&amp;#39;m so happy that I found your channel. I&amp;...</td>\n",
       "      <td>O6EruBH1v7M</td>\n",
       "      <td>[]</td>\n",
       "    </tr>\n",
       "    <tr>\n",
       "      <th>1</th>\n",
       "      <td>{'value': 'UCziUx7-BthhCbWInV0F6hfQ'}</td>\n",
       "      <td>2019-01-26T23:52:01.000Z</td>\n",
       "      <td>Thanks for this video, can’t wait to see the r...</td>\n",
       "      <td>O6EruBH1v7M</td>\n",
       "      <td>[]</td>\n",
       "    </tr>\n",
       "    <tr>\n",
       "      <th>2</th>\n",
       "      <td>{'value': 'UCs_t9Jdbwa0ZqnBaitvPanQ'}</td>\n",
       "      <td>2019-01-26T23:16:09.000Z</td>\n",
       "      <td>Dude. My room is messier than the before picture</td>\n",
       "      <td>O6EruBH1v7M</td>\n",
       "      <td>[]</td>\n",
       "    </tr>\n",
       "    <tr>\n",
       "      <th>3</th>\n",
       "      <td>{'value': 'UCv7djtU-TXHmhp42rliuW7Q'}</td>\n",
       "      <td>2019-01-26T23:14:36.000Z</td>\n",
       "      <td>👏😍😍👏👏😍👏😍👏👏😍 declutter is life 🤩🤩🤩🤩 and u are m...</td>\n",
       "      <td>O6EruBH1v7M</td>\n",
       "      <td>[👏😍😍👏👏😍👏😍👏👏😍, 🤩🤩🤩🤩, 💕❤️💕❤️💕❤️💕❤️]</td>\n",
       "    </tr>\n",
       "    <tr>\n",
       "      <th>4</th>\n",
       "      <td>{'value': 'UCG08L1bkWCIro2HrJTHB02A'}</td>\n",
       "      <td>2019-01-26T20:57:18.000Z</td>\n",
       "      <td>This video was just soo satisfying 😍</td>\n",
       "      <td>O6EruBH1v7M</td>\n",
       "      <td>[😍]</td>\n",
       "    </tr>\n",
       "  </tbody>\n",
       "</table>\n",
       "</div>"
      ],
      "text/plain": [
       "                         authorChannelId               publishedAt  \\\n",
       "0  {'value': 'UCGWE5YRjoodVGyuIhy0MD1g'}  2019-01-27T02:20:59.000Z   \n",
       "1  {'value': 'UCziUx7-BthhCbWInV0F6hfQ'}  2019-01-26T23:52:01.000Z   \n",
       "2  {'value': 'UCs_t9Jdbwa0ZqnBaitvPanQ'}  2019-01-26T23:16:09.000Z   \n",
       "3  {'value': 'UCv7djtU-TXHmhp42rliuW7Q'}  2019-01-26T23:14:36.000Z   \n",
       "4  {'value': 'UCG08L1bkWCIro2HrJTHB02A'}  2019-01-26T20:57:18.000Z   \n",
       "\n",
       "                                         textDisplay      videoId  \\\n",
       "0  I&#39;m so happy that I found your channel. I&...  O6EruBH1v7M   \n",
       "1  Thanks for this video, can’t wait to see the r...  O6EruBH1v7M   \n",
       "2   Dude. My room is messier than the before picture  O6EruBH1v7M   \n",
       "3  👏😍😍👏👏😍👏😍👏👏😍 declutter is life 🤩🤩🤩🤩 and u are m...  O6EruBH1v7M   \n",
       "4               This video was just soo satisfying 😍  O6EruBH1v7M   \n",
       "\n",
       "                               emoji  \n",
       "0                                 []  \n",
       "1                                 []  \n",
       "2                                 []  \n",
       "3  [👏😍😍👏👏😍👏😍👏👏😍, 🤩🤩🤩🤩, 💕❤️💕❤️💕❤️💕❤️]  \n",
       "4                                [😍]  "
      ]
     },
     "execution_count": 53,
     "metadata": {},
     "output_type": "execute_result"
    }
   ],
   "source": [
    "df.head()\n"
   ]
  },
  {
   "cell_type": "code",
   "execution_count": 36,
   "metadata": {},
   "outputs": [],
   "source": [
    "def extract_emojis(sentence):\n",
    "    return [word for word in sentence.split() if str(word.encode('unicode-escape'))[2] == '\\\\' ]"
   ]
  },
  {
   "cell_type": "code",
   "execution_count": 38,
   "metadata": {},
   "outputs": [],
   "source": [
    "df['emoji'] = df['textDisplay'].apply(lambda x: extract_emojis(x))"
   ]
  },
  {
   "cell_type": "code",
   "execution_count": 54,
   "metadata": {},
   "outputs": [
    {
     "data": {
      "text/html": [
       "<div>\n",
       "<style scoped>\n",
       "    .dataframe tbody tr th:only-of-type {\n",
       "        vertical-align: middle;\n",
       "    }\n",
       "\n",
       "    .dataframe tbody tr th {\n",
       "        vertical-align: top;\n",
       "    }\n",
       "\n",
       "    .dataframe thead th {\n",
       "        text-align: right;\n",
       "    }\n",
       "</style>\n",
       "<table border=\"1\" class=\"dataframe\">\n",
       "  <thead>\n",
       "    <tr style=\"text-align: right;\">\n",
       "      <th></th>\n",
       "      <th>authorChannelId</th>\n",
       "      <th>publishedAt</th>\n",
       "      <th>textDisplay</th>\n",
       "      <th>videoId</th>\n",
       "      <th>emoji</th>\n",
       "    </tr>\n",
       "  </thead>\n",
       "  <tbody>\n",
       "    <tr>\n",
       "      <th>0</th>\n",
       "      <td>{'value': 'UCGWE5YRjoodVGyuIhy0MD1g'}</td>\n",
       "      <td>2019-01-27T02:20:59.000Z</td>\n",
       "      <td>I&amp;#39;m so happy that I found your channel. I&amp;...</td>\n",
       "      <td>O6EruBH1v7M</td>\n",
       "      <td>[]</td>\n",
       "    </tr>\n",
       "    <tr>\n",
       "      <th>1</th>\n",
       "      <td>{'value': 'UCziUx7-BthhCbWInV0F6hfQ'}</td>\n",
       "      <td>2019-01-26T23:52:01.000Z</td>\n",
       "      <td>Thanks for this video, can’t wait to see the r...</td>\n",
       "      <td>O6EruBH1v7M</td>\n",
       "      <td>[]</td>\n",
       "    </tr>\n",
       "    <tr>\n",
       "      <th>2</th>\n",
       "      <td>{'value': 'UCs_t9Jdbwa0ZqnBaitvPanQ'}</td>\n",
       "      <td>2019-01-26T23:16:09.000Z</td>\n",
       "      <td>Dude. My room is messier than the before picture</td>\n",
       "      <td>O6EruBH1v7M</td>\n",
       "      <td>[]</td>\n",
       "    </tr>\n",
       "    <tr>\n",
       "      <th>3</th>\n",
       "      <td>{'value': 'UCv7djtU-TXHmhp42rliuW7Q'}</td>\n",
       "      <td>2019-01-26T23:14:36.000Z</td>\n",
       "      <td>👏😍😍👏👏😍👏😍👏👏😍 declutter is life 🤩🤩🤩🤩 and u are m...</td>\n",
       "      <td>O6EruBH1v7M</td>\n",
       "      <td>[👏😍😍👏👏😍👏😍👏👏😍, 🤩🤩🤩🤩, 💕❤️💕❤️💕❤️💕❤️]</td>\n",
       "    </tr>\n",
       "    <tr>\n",
       "      <th>4</th>\n",
       "      <td>{'value': 'UCG08L1bkWCIro2HrJTHB02A'}</td>\n",
       "      <td>2019-01-26T20:57:18.000Z</td>\n",
       "      <td>This video was just soo satisfying 😍</td>\n",
       "      <td>O6EruBH1v7M</td>\n",
       "      <td>[😍]</td>\n",
       "    </tr>\n",
       "  </tbody>\n",
       "</table>\n",
       "</div>"
      ],
      "text/plain": [
       "                         authorChannelId               publishedAt  \\\n",
       "0  {'value': 'UCGWE5YRjoodVGyuIhy0MD1g'}  2019-01-27T02:20:59.000Z   \n",
       "1  {'value': 'UCziUx7-BthhCbWInV0F6hfQ'}  2019-01-26T23:52:01.000Z   \n",
       "2  {'value': 'UCs_t9Jdbwa0ZqnBaitvPanQ'}  2019-01-26T23:16:09.000Z   \n",
       "3  {'value': 'UCv7djtU-TXHmhp42rliuW7Q'}  2019-01-26T23:14:36.000Z   \n",
       "4  {'value': 'UCG08L1bkWCIro2HrJTHB02A'}  2019-01-26T20:57:18.000Z   \n",
       "\n",
       "                                         textDisplay      videoId  \\\n",
       "0  I&#39;m so happy that I found your channel. I&...  O6EruBH1v7M   \n",
       "1  Thanks for this video, can’t wait to see the r...  O6EruBH1v7M   \n",
       "2   Dude. My room is messier than the before picture  O6EruBH1v7M   \n",
       "3  👏😍😍👏👏😍👏😍👏👏😍 declutter is life 🤩🤩🤩🤩 and u are m...  O6EruBH1v7M   \n",
       "4               This video was just soo satisfying 😍  O6EruBH1v7M   \n",
       "\n",
       "                               emoji  \n",
       "0                                 []  \n",
       "1                                 []  \n",
       "2                                 []  \n",
       "3  [👏😍😍👏👏😍👏😍👏👏😍, 🤩🤩🤩🤩, 💕❤️💕❤️💕❤️💕❤️]  \n",
       "4                                [😍]  "
      ]
     },
     "execution_count": 54,
     "metadata": {},
     "output_type": "execute_result"
    }
   ],
   "source": [
    "df.head()"
   ]
  },
  {
   "cell_type": "code",
   "execution_count": 42,
   "metadata": {},
   "outputs": [],
   "source": [
    "emoji_lst = df['emoji'].tolist()"
   ]
  },
  {
   "cell_type": "code",
   "execution_count": 50,
   "metadata": {},
   "outputs": [],
   "source": [
    "main_emoji = []\n",
    "for i in emoji_lst:\n",
    "    if i == []:\n",
    "        continue\n",
    "    for j in i:\n",
    "        for k in j:\n",
    "            main_emoji.append(k)"
   ]
  },
  {
   "cell_type": "code",
   "execution_count": 56,
   "metadata": {},
   "outputs": [
    {
     "data": {
      "text/plain": [
       "['👏', '😍', '😍', '👏', '👏']"
      ]
     },
     "execution_count": 56,
     "metadata": {},
     "output_type": "execute_result"
    }
   ],
   "source": [
    "main_emoji[:5]"
   ]
  },
  {
   "cell_type": "code",
   "execution_count": null,
   "metadata": {},
   "outputs": [],
   "source": []
  },
  {
   "cell_type": "code",
   "execution_count": null,
   "metadata": {},
   "outputs": [],
   "source": []
  }
 ],
 "metadata": {
  "kernelspec": {
   "display_name": "Python 3",
   "language": "python",
   "name": "python3"
  },
  "language_info": {
   "codemirror_mode": {
    "name": "ipython",
    "version": 3
   },
   "file_extension": ".py",
   "mimetype": "text/x-python",
   "name": "python",
   "nbconvert_exporter": "python",
   "pygments_lexer": "ipython3",
   "version": "3.6.5"
  }
 },
 "nbformat": 4,
 "nbformat_minor": 2
}
